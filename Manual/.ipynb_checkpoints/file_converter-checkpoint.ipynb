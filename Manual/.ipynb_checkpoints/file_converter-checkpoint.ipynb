{
 "cells": [
  {
   "cell_type": "code",
   "execution_count": null,
   "id": "290b8d9a-19ef-4bf3-95cb-123d01dc7d6d",
   "metadata": {},
   "outputs": [],
   "source": []
  },
  {
   "cell_type": "code",
   "execution_count": 1,
   "id": "8a0e271f-4bbe-402a-8449-d18f51289558",
   "metadata": {},
   "outputs": [
    {
     "name": "stdout",
     "output_type": "stream",
     "text": [
      "Requirement already satisfied: extract-msg in /home/knoldus/anaconda3/lib/python3.8/site-packages (0.28.7)\n",
      "Requirement already satisfied: ebcdic>=1.1.1 in /home/knoldus/anaconda3/lib/python3.8/site-packages (from extract-msg) (1.1.1)\n",
      "Requirement already satisfied: imapclient==2.1.0 in /home/knoldus/anaconda3/lib/python3.8/site-packages (from extract-msg) (2.1.0)\n",
      "Requirement already satisfied: olefile>=0.46 in /home/knoldus/anaconda3/lib/python3.8/site-packages (from extract-msg) (0.46)\n",
      "Requirement already satisfied: compressed-rtf>=1.0.6 in /home/knoldus/anaconda3/lib/python3.8/site-packages (from extract-msg) (1.0.6)\n",
      "Requirement already satisfied: tzlocal>=2.1 in /home/knoldus/anaconda3/lib/python3.8/site-packages (from extract-msg) (4.1)\n",
      "Requirement already satisfied: six in /home/knoldus/anaconda3/lib/python3.8/site-packages (from imapclient==2.1.0->extract-msg) (1.16.0)\n",
      "Requirement already satisfied: backports.zoneinfo in /home/knoldus/anaconda3/lib/python3.8/site-packages (from tzlocal>=2.1->extract-msg) (0.2.1)\n",
      "Requirement already satisfied: pytz-deprecation-shim in /home/knoldus/anaconda3/lib/python3.8/site-packages (from tzlocal>=2.1->extract-msg) (0.1.0.post0)\n",
      "Requirement already satisfied: tzdata in /home/knoldus/anaconda3/lib/python3.8/site-packages (from pytz-deprecation-shim->tzlocal>=2.1->extract-msg) (2021.5)\n",
      "Requirement already satisfied: imapclient in /home/knoldus/anaconda3/lib/python3.8/site-packages (2.1.0)\n",
      "Requirement already satisfied: six in /home/knoldus/anaconda3/lib/python3.8/site-packages (from imapclient) (1.16.0)\n"
     ]
    }
   ],
   "source": [
    "!pip install extract-msg\n",
    "!pip install imapclient\n"
   ]
  },
  {
   "cell_type": "code",
   "execution_count": 2,
   "id": "7a4f765f-e1ae-409a-afd5-5cb548761ac3",
   "metadata": {},
   "outputs": [],
   "source": [
    "import extract_msg\n",
    "import glob\n",
    "\n",
    "\n",
    "f = glob.glob(r'Desktop/Manual DC/renam.msg')\n",
    "\n",
    "for filename in f:\n",
    "    msg = ExtractMsg.Message(filename)\n",
    "    print(msg)\n",
    "    msg_sender = msg.sender\n",
    "    msg_date = msg.date\n",
    "    msg_subj = msg.subject\n",
    "    msg_message = msg.body\n",
    "    "
   ]
  },
  {
   "cell_type": "code",
   "execution_count": 3,
   "id": "0dea037d-8160-4658-a1b0-cc25efc1363a",
   "metadata": {},
   "outputs": [],
   "source": [
    "import extract_msg\n",
    "import os\n",
    "import pandas as pd\n",
    "direct = os.getcwd()\n",
    "ext = '.msg' \n",
    "    \n",
    "    \n",
    "def content_extraction(directory,extension):\n",
    "    for mail in os.listdir(directory):\n",
    "        try:\n",
    "            if mail.endswith(extension):\n",
    "                msg = extract_msg.Message(mail) \n",
    "                msg.save()  \n",
    "        except(UnicodeEncodeError,AttributeError,TypeError) as e:\n",
    "            pass \n",
    "content_extraction(direct,ext)\n",
    "\n",
    "def DataImporter(directory, extension):\n",
    "    my_list = []\n",
    "    for i in os.listdir(direct):\n",
    "        try:\n",
    "            if i.endswith(ext):\n",
    "                msg = extract_msg.Message(i)\n",
    "                my_list.append([msg.filename,msg.sender,msg.to, msg.date, msg.subject, msg.body, msg.message_id]) #These are in-built features of '**extract_msg.Message**' class\n",
    "                global df\n",
    "                df = pd.DataFrame(my_list, columns = ['File Name','From','To','Date','Subject','MailBody Text','Message ID'])\n",
    "                print(df.shape[0],' rows imported')\n",
    "        except(UnicodeEncodeError,AttributeError,TypeError) as e:\n",
    "            pass\n",
    "\n",
    "DataImporter(direct,ext)"
   ]
  },
  {
   "cell_type": "code",
   "execution_count": null,
   "id": "c863e24d-814c-4430-93fb-19e8892cf301",
   "metadata": {},
   "outputs": [],
   "source": []
  }
 ],
 "metadata": {
  "kernelspec": {
   "display_name": "Python 3 (ipykernel)",
   "language": "python",
   "name": "python3"
  },
  "language_info": {
   "codemirror_mode": {
    "name": "ipython",
    "version": 3
   },
   "file_extension": ".py",
   "mimetype": "text/x-python",
   "name": "python",
   "nbconvert_exporter": "python",
   "pygments_lexer": "ipython3",
   "version": "3.8.8"
  }
 },
 "nbformat": 4,
 "nbformat_minor": 5
}
