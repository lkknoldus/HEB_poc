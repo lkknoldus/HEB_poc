{
 "cells": [
  {
   "cell_type": "code",
   "execution_count": null,
   "id": "290b8d9a-19ef-4bf3-95cb-123d01dc7d6d",
   "metadata": {},
   "outputs": [],
   "source": []
  },
  {
   "cell_type": "code",
   "execution_count": 1,
   "id": "8a0e271f-4bbe-402a-8449-d18f51289558",
   "metadata": {},
   "outputs": [
    {
     "name": "stdout",
     "output_type": "stream",
     "text": [
      "Requirement already satisfied: extract-msg in /home/knoldus/anaconda3/lib/python3.8/site-packages (0.28.7)\n",
      "Requirement already satisfied: olefile>=0.46 in /home/knoldus/anaconda3/lib/python3.8/site-packages (from extract-msg) (0.46)\n",
      "Requirement already satisfied: imapclient==2.1.0 in /home/knoldus/anaconda3/lib/python3.8/site-packages (from extract-msg) (2.1.0)\n",
      "Requirement already satisfied: compressed-rtf>=1.0.6 in /home/knoldus/anaconda3/lib/python3.8/site-packages (from extract-msg) (1.0.6)\n",
      "Requirement already satisfied: ebcdic>=1.1.1 in /home/knoldus/anaconda3/lib/python3.8/site-packages (from extract-msg) (1.1.1)\n",
      "Requirement already satisfied: tzlocal>=2.1 in /home/knoldus/anaconda3/lib/python3.8/site-packages (from extract-msg) (4.1)\n",
      "Requirement already satisfied: six in /home/knoldus/anaconda3/lib/python3.8/site-packages (from imapclient==2.1.0->extract-msg) (1.16.0)\n",
      "Requirement already satisfied: backports.zoneinfo in /home/knoldus/anaconda3/lib/python3.8/site-packages (from tzlocal>=2.1->extract-msg) (0.2.1)\n",
      "Requirement already satisfied: pytz-deprecation-shim in /home/knoldus/anaconda3/lib/python3.8/site-packages (from tzlocal>=2.1->extract-msg) (0.1.0.post0)\n",
      "Requirement already satisfied: tzdata in /home/knoldus/anaconda3/lib/python3.8/site-packages (from pytz-deprecation-shim->tzlocal>=2.1->extract-msg) (2021.5)\n",
      "Requirement already satisfied: imapclient in /home/knoldus/anaconda3/lib/python3.8/site-packages (2.1.0)\n",
      "Requirement already satisfied: six in /home/knoldus/anaconda3/lib/python3.8/site-packages (from imapclient) (1.16.0)\n"
     ]
    }
   ],
   "source": [
    "!pip install extract-msg\n",
    "!pip install imapclient\n"
   ]
  },
  {
   "cell_type": "code",
   "execution_count": 3,
   "id": "0dea037d-8160-4658-a1b0-cc25efc1363a",
   "metadata": {},
   "outputs": [],
   "source": [
    "import extract_msg\n",
    "import os\n",
    "import pandas as pd\n",
    "direct = os.getcwd()\n",
    "ext = '.msg' \n",
    "    \n",
    "    \n",
    "def content_extraction(directory,extension):\n",
    "    for mail in os.listdir(directory):\n",
    "        try:\n",
    "            if mail.endswith(extension):\n",
    "                msg = extract_msg.Message(mail) \n",
    "                msg.save()  \n",
    "        except(UnicodeEncodeError,AttributeError,TypeError) as e:\n",
    "            pass \n",
    "content_extraction(direct,ext)\n",
    "\n",
    "def DataImporter(directory, extension):\n",
    "    my_list = []\n",
    "    for i in os.listdir(direct):\n",
    "        try:\n",
    "            if i.endswith(ext):\n",
    "                msg = extract_msg.Message(i)\n",
    "                my_list.append([msg.filename,msg.sender,msg.to, msg.date, msg.subject, msg.body, msg.message_id]) #These are in-built features of '**extract_msg.Message**' class\n",
    "                global df\n",
    "                df = pd.DataFrame(my_list, columns = ['File Name','From','To','Date','Subject','MailBody Text','Message ID'])\n",
    "                print(df.shape[0],' rows imported')\n",
    "        except(UnicodeEncodeError,AttributeError,TypeError) as e:\n",
    "            pass\n",
    "\n",
    "DataImporter(direct,ext)"
   ]
  },
  {
   "cell_type": "code",
   "execution_count": null,
   "id": "c863e24d-814c-4430-93fb-19e8892cf301",
   "metadata": {},
   "outputs": [],
   "source": []
  },
  {
   "cell_type": "code",
   "execution_count": 35,
   "id": "25ea775c-6a67-4d6e-aa36-8dd6d4e53977",
   "metadata": {},
   "outputs": [
    {
     "name": "stdout",
     "output_type": "stream",
     "text": [
      "done\n"
     ]
    }
   ],
   "source": [
    "# Python program to convert text\n",
    "# file to JSON\n",
    "import re\n",
    "  \n",
    "import json\n",
    "  \n",
    "  \n",
    "# the file to be converted to \n",
    "# json format\n",
    "filename = 'Manual/2021-12-29_1025 Re CBL REQUEST BOOKING#69425304 ORDER#0170205027         20211020SAPP23 JOB# US14219320761  FIS_D1100/message.txt'\n",
    "\n",
    "# dictionary where the lines from\n",
    "# text will be stored\n",
    "dict1 = {}\n",
    "  \n",
    "# creating dictionary\n",
    "with open(filename) as fh:\n",
    "  \n",
    "    for line in fh:\n",
    "  \n",
    "        if re.search('^([^,]+):',line):\n",
    "            c=[line.split(\":\")]\n",
    "            nam=c[0]\n",
    "            \n",
    "            dict1[nam[0]]=nam[1]\n",
    "            \n",
    "# creating json file\n",
    "# the JSON file is named as test1\n",
    "out_file = open(\"json_files/file25.json\", \"w\")\n",
    "json.dump(dict1, out_file, indent = 4, sort_keys = False)\n",
    "out_file.close()\n",
    "print(\"done\")"
   ]
  },
  {
   "cell_type": "code",
   "execution_count": 41,
   "id": "8e7faf12-8c62-4e3f-92ce-48ec22e10a4c",
   "metadata": {},
   "outputs": [
    {
     "ename": "ValueError",
     "evalue": "too many values to unpack (expected 2)",
     "output_type": "error",
     "traceback": [
      "\u001b[0;31m---------------------------------------------------------------------------\u001b[0m",
      "\u001b[0;31mValueError\u001b[0m                                Traceback (most recent call last)",
      "\u001b[0;32m/tmp/ipykernel_26227/1587093244.py\u001b[0m in \u001b[0;36m<module>\u001b[0;34m\u001b[0m\n\u001b[1;32m     19\u001b[0m \u001b[0mcount\u001b[0m \u001b[0;34m=\u001b[0m \u001b[0;36m0\u001b[0m\u001b[0;34m\u001b[0m\u001b[0;34m\u001b[0m\u001b[0m\n\u001b[1;32m     20\u001b[0m \u001b[0;34m\u001b[0m\u001b[0m\n\u001b[0;32m---> 21\u001b[0;31m \u001b[0;32mfor\u001b[0m \u001b[0mkey\u001b[0m\u001b[0;34m,\u001b[0m\u001b[0mvalue\u001b[0m \u001b[0;32min\u001b[0m \u001b[0mdata\u001b[0m\u001b[0;34m:\u001b[0m\u001b[0;34m\u001b[0m\u001b[0;34m\u001b[0m\u001b[0m\n\u001b[0m\u001b[1;32m     22\u001b[0m     \u001b[0;32mif\u001b[0m \u001b[0mcount\u001b[0m \u001b[0;34m==\u001b[0m \u001b[0;36m0\u001b[0m\u001b[0;34m:\u001b[0m\u001b[0;34m\u001b[0m\u001b[0;34m\u001b[0m\u001b[0m\n\u001b[1;32m     23\u001b[0m \u001b[0;34m\u001b[0m\u001b[0m\n",
      "\u001b[0;31mValueError\u001b[0m: too many values to unpack (expected 2)"
     ]
    }
   ],
   "source": [
    " \n",
    "import json\n",
    "import csv\n",
    " \n",
    " \n",
    "# Opening JSON file and loading the data\n",
    "# into the variable data\n",
    "with open('testing.json') as json_file:\n",
    "    data = json.load(json_file)\n",
    " \n",
    " \n",
    "# now we will open a file for writing\n",
    "data_file = open('data_file.csv', 'w')\n",
    " \n",
    "# create the csv writer object\n",
    "csv_writer = csv.writer(data_file)\n",
    " \n",
    "# Counter variable used for writing\n",
    "# headers to the CSV file\n",
    "count = 0\n",
    " \n",
    "for key,value in data:\n",
    "    if count == 0:\n",
    " \n",
    "        # Writing headers of CSV file\n",
    "        header = emp.keys()\n",
    "        csv_writer.writerow(header)\n",
    "        count += 1\n",
    " \n",
    "    # Writing data of CSV file\n",
    "    csv_writer.writerow(emp.values())\n",
    " \n",
    "data_file.close()"
   ]
  },
  {
   "cell_type": "code",
   "execution_count": null,
   "id": "e14cbf78-b369-43c9-8d43-b30f4d0dcb7d",
   "metadata": {},
   "outputs": [],
   "source": []
  }
 ],
 "metadata": {
  "kernelspec": {
   "display_name": "Python 3 (ipykernel)",
   "language": "python",
   "name": "python3"
  },
  "language_info": {
   "codemirror_mode": {
    "name": "ipython",
    "version": 3
   },
   "file_extension": ".py",
   "mimetype": "text/x-python",
   "name": "python",
   "nbconvert_exporter": "python",
   "pygments_lexer": "ipython3",
   "version": "3.8.8"
  }
 },
 "nbformat": 4,
 "nbformat_minor": 5
}
